{
  "nbformat": 4,
  "nbformat_minor": 0,
  "metadata": {
    "colab": {
      "provenance": [],
      "authorship_tag": "ABX9TyONPcL+z3OBc0s1gcETbiNl",
      "include_colab_link": true
    },
    "kernelspec": {
      "name": "python3",
      "display_name": "Python 3"
    },
    "language_info": {
      "name": "python"
    }
  },
  "cells": [
    {
      "cell_type": "markdown",
      "metadata": {
        "id": "view-in-github",
        "colab_type": "text"
      },
      "source": [
        "<a href=\"https://colab.research.google.com/github/Takayuki-Fujiwara/intro_git/blob/main/Google_Colab%E3%81%A7streamlit%E3%82%A2%E3%83%97%E3%83%AA%E3%82%B1%E3%83%BC%E3%82%B7%E3%83%A7%E3%83%B3%E3%82%92%E5%8B%95%E3%81%8B%E3%81%97%E5%A4%96%E9%83%A8%E3%81%8B%E3%82%89%E3%82%A2%E3%82%AF%E3%82%BB%E3%82%B9%E3%81%99%E3%82%8B.ipynb\" target=\"_parent\"><img src=\"https://colab.research.google.com/assets/colab-badge.svg\" alt=\"Open In Colab\"/></a>"
      ]
    },
    {
      "cell_type": "code",
      "execution_count": null,
      "metadata": {
        "id": "5W20pGSMvBfw"
      },
      "outputs": [],
      "source": [
        "!pip install streamlit\n",
        "!pip install pyngrok"
      ]
    },
    {
      "cell_type": "code",
      "source": [
        "%%writefile streamlit_app.py\n",
        "import streamlit as st\n",
        "\n",
        "st.title('Streamlit on Google Colab')\n",
        "\n",
        "user_input = st.text_input(\"ここに入力してください\")\n",
        "st.write(f'あなたが入力した内容は: {user_input}')"
      ],
      "metadata": {
        "id": "FcFfSuRyvDUV"
      },
      "execution_count": null,
      "outputs": []
    },
    {
      "cell_type": "code",
      "source": [
        "!ngrok authtoken 2T0khG0ixoauULn9e7RLWacGKxr_2ggTfGjRfHX8FAADwzzdi\n",
        "!streamlit run streamlit_app.py &>/dev/null&\n",
        "!pgrep streamlit\n",
        "\n",
        "from pyngrok import ngrok\n",
        "\n",
        "#Streamlitが使用するデフォルトのポート番号8501を明示的に指定\n",
        "public_url = ngrok.connect(8501)\n",
        "print(\"Public URL:\", public_url)"
      ],
      "metadata": {
        "id": "NzeZr2JVvHH6"
      },
      "execution_count": null,
      "outputs": []
    }
  ]
}