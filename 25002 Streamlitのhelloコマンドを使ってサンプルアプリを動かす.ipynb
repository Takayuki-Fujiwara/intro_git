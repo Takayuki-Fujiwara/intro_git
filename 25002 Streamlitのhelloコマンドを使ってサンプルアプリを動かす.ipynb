{
  "nbformat": 4,
  "nbformat_minor": 0,
  "metadata": {
    "colab": {
      "provenance": [],
      "authorship_tag": "ABX9TyOrfqZqi/z3qlRmUntT0UDP",
      "include_colab_link": true
    },
    "kernelspec": {
      "name": "python3",
      "display_name": "Python 3"
    },
    "language_info": {
      "name": "python"
    }
  },
  "cells": [
    {
      "cell_type": "markdown",
      "metadata": {
        "id": "view-in-github",
        "colab_type": "text"
      },
      "source": [
        "<a href=\"https://colab.research.google.com/github/Takayuki-Fujiwara/MyExpt/blob/main/Streamlit%E3%81%AEhello%E3%82%B3%E3%83%9E%E3%83%B3%E3%83%89%E3%82%92%E4%BD%BF%E3%81%A3%E3%81%A6%E3%82%B5%E3%83%B3%E3%83%97%E3%83%AB%E3%82%A2%E3%83%97%E3%83%AA%E3%82%92%E5%8B%95%E3%81%8B%E3%81%99.ipynb\" target=\"_parent\"><img src=\"https://colab.research.google.com/assets/colab-badge.svg\" alt=\"Open In Colab\"/></a>"
      ]
    },
    {
      "cell_type": "code",
      "execution_count": null,
      "metadata": {
        "id": "5W20pGSMvBfw"
      },
      "outputs": [],
      "source": [
        "!pip install streamlit==1.44.0 --quiet\n",
        "!pip install pyngrok --quiet\n",
        "from pyngrok import ngrok"
      ]
    },
    {
      "cell_type": "code",
      "source": [
        "!ngrok authtoken 2T0khG0ixoauULn9e7RLWacGKxr_2ggTfGjRfHX8FAADwzzdi"
      ],
      "metadata": {
        "id": "NzeZr2JVvHH6"
      },
      "execution_count": null,
      "outputs": []
    },
    {
      "cell_type": "code",
      "source": [
        "!streamlit hello &>/dev/null&\n",
        "\n",
        "ngrok.kill()  # プロセスの終了\n",
        "\n",
        "url = ngrok.connect(\"8501\").public_url  # 接続\n",
        "print(url)"
      ],
      "metadata": {
        "id": "uSw6sLXdRgeC"
      },
      "execution_count": null,
      "outputs": []
    }
  ]
}
