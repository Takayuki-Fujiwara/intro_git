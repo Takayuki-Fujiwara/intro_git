{
  "nbformat": 4,
  "nbformat_minor": 0,
  "metadata": {
    "colab": {
      "provenance": [],
      "authorship_tag": "ABX9TyPW4Y3O/IlikFl2QZ30VRLB",
      "include_colab_link": true
    },
    "kernelspec": {
      "name": "python3",
      "display_name": "Python 3"
    },
    "language_info": {
      "name": "python"
    }
  },
  "cells": [
    {
      "cell_type": "markdown",
      "metadata": {
        "id": "view-in-github",
        "colab_type": "text"
      },
      "source": [
        "<a href=\"https://colab.research.google.com/github/Takayuki-Fujiwara/MyExpt/blob/main/Google_Colab%E4%B8%8A%E3%81%A7ngrok%E3%82%92%E7%94%A8%E3%81%84%E3%81%A6%E3%83%9B%E3%82%B9%E3%83%88%E3%81%97%E3%81%9FStreamlit%E3%82%A2%E3%83%97%E3%83%AA%E3%81%B2%E3%81%AA%E5%9E%8B.ipynb\" target=\"_parent\"><img src=\"https://colab.research.google.com/assets/colab-badge.svg\" alt=\"Open In Colab\"/></a>"
      ]
    },
    {
      "cell_type": "code",
      "execution_count": null,
      "metadata": {
        "id": "5W20pGSMvBfw"
      },
      "outputs": [],
      "source": [
        "!pip install streamlit==1.44.0 --quiet\n",
        "!pip install pyngrok --quiet\n",
        "from pyngrok import ngrok"
      ]
    },
    {
      "cell_type": "code",
      "source": [
        "%%writefile app.py\n",
        "# この部分にPythonコードを記述する\n",
        "\n",
        "import streamlit as st\n",
        "\n",
        "st.title('Streamlit on Google Colab')\n",
        "\n",
        "user_input = st.text_input(\"ここに入力してください\")\n",
        "st.write(f'あなたが入力した内容は: {user_input}')"
      ],
      "metadata": {
        "id": "FcFfSuRyvDUV"
      },
      "execution_count": null,
      "outputs": []
    },
    {
      "cell_type": "code",
      "source": [
        "!ngrok authtoken [ngrok Authtoken]"
      ],
      "metadata": {
        "id": "NzeZr2JVvHH6"
      },
      "execution_count": null,
      "outputs": []
    },
    {
      "cell_type": "code",
      "source": [
        "!streamlit run app.py &>/dev/null&\n",
        "\n",
        "ngrok.kill()  # プロセスの終了\n",
        "\n",
        "url = ngrok.connect(\"8501\").public_url  # 接続\n",
        "print(url)"
      ],
      "metadata": {
        "id": "UN7DM4ePQbmm"
      },
      "execution_count": null,
      "outputs": []
    }
  ]
}